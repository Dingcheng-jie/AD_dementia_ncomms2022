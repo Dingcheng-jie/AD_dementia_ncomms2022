{
 "cells": [
  {
   "cell_type": "code",
   "execution_count": null,
   "metadata": {},
   "outputs": [],
   "source": [
    "from nonImg_model_wrappers import NonImg_Model_Wrapper, Fusion_Model_Wrapper\n",
    "from utils import read_json\n",
    "\n",
    "model = NonImg_Model_Wrapper(\n",
    "    tasks=['COG'],                            # a list of tasks to predict\n",
    "    main_config={\"csv_dir\": \"lookupcsv/CrossValid/cross0\", \"model_name\": \"CNN_baseline_new_cross0\"},            # general configuration for the experiment  \n",
    "    task_config=read_json('task_config.json'),       # task specific configurations\n",
    "    seed=1000\n",
    ")                                       \n",
    "model.train()                                                            \n",
    "thres = model.get_optimal_thres()                    # get optimal threshold using validation dataset\n",
    "model.gen_score(['test'], thres)                     # apply optimal threshold on test dataset and cache predictions"
   ]
  },
  {
   "cell_type": "code",
   "execution_count": null,
   "metadata": {},
   "outputs": [],
   "source": [
    "from performance_eval import generate_roc, generate_pr\n",
    "generate_roc(\n",
    "    ['tb_log/CNN_baseline_new_cross0/test_eval.csv'],              # list[csvfiles] produced from \"gen_score\". Mean and std are estimated from cross-validation experiments  \n",
    "    'DE', \n",
    "    'red', \n",
    "    'ADNI_test_DE_roc'\n",
    ")\n",
    "generate_pr(\n",
    "    ['tb_log/CNN_baseline_new_cross0/test_eval.csv'],              # list[csvfiles] produced from \"gen_score\". Mean and std are estimated from cross-validation experiments \n",
    "    'DE', \n",
    "    'red', \n",
    "    'ADNI_test_DE_pr'\n",
    ")"
   ]
  },
  {
   "cell_type": "code",
   "execution_count": 1,
   "metadata": {},
   "outputs": [
    {
     "name": "stderr",
     "output_type": "stream",
     "text": [
      "/user/local/anaconda3/envs/ncomms2022/lib/python3.8/site-packages/shap/utils/_clustering.py:35: NumbaDeprecationWarning: The 'nopython' keyword argument was not supplied to the 'numba.jit' decorator. The implicit default value for this argument is currently False, but it will be changed to True in Numba 0.59.0. See https://numba.readthedocs.io/en/stable/reference/deprecation.html#deprecation-of-object-mode-fall-back-behaviour-when-using-jit for details.\n",
      "  def _pt_shuffle_rec(i, indexes, index_mask, partition_tree, M, pos):\n",
      "/user/local/anaconda3/envs/ncomms2022/lib/python3.8/site-packages/shap/utils/_clustering.py:54: NumbaDeprecationWarning: The 'nopython' keyword argument was not supplied to the 'numba.jit' decorator. The implicit default value for this argument is currently False, but it will be changed to True in Numba 0.59.0. See https://numba.readthedocs.io/en/stable/reference/deprecation.html#deprecation-of-object-mode-fall-back-behaviour-when-using-jit for details.\n",
      "  def delta_minimization_order(all_masks, max_swap_size=100, num_passes=2):\n",
      "/user/local/anaconda3/envs/ncomms2022/lib/python3.8/site-packages/shap/utils/_clustering.py:63: NumbaDeprecationWarning: The 'nopython' keyword argument was not supplied to the 'numba.jit' decorator. The implicit default value for this argument is currently False, but it will be changed to True in Numba 0.59.0. See https://numba.readthedocs.io/en/stable/reference/deprecation.html#deprecation-of-object-mode-fall-back-behaviour-when-using-jit for details.\n",
      "  def _reverse_window(order, start, length):\n",
      "/user/local/anaconda3/envs/ncomms2022/lib/python3.8/site-packages/shap/utils/_clustering.py:69: NumbaDeprecationWarning: The 'nopython' keyword argument was not supplied to the 'numba.jit' decorator. The implicit default value for this argument is currently False, but it will be changed to True in Numba 0.59.0. See https://numba.readthedocs.io/en/stable/reference/deprecation.html#deprecation-of-object-mode-fall-back-behaviour-when-using-jit for details.\n",
      "  def _reverse_window_score_gain(masks, order, start, length):\n",
      "/user/local/anaconda3/envs/ncomms2022/lib/python3.8/site-packages/shap/utils/_clustering.py:77: NumbaDeprecationWarning: The 'nopython' keyword argument was not supplied to the 'numba.jit' decorator. The implicit default value for this argument is currently False, but it will be changed to True in Numba 0.59.0. See https://numba.readthedocs.io/en/stable/reference/deprecation.html#deprecation-of-object-mode-fall-back-behaviour-when-using-jit for details.\n",
      "  def _mask_delta_score(m1, m2):\n",
      "/user/local/anaconda3/envs/ncomms2022/lib/python3.8/site-packages/shap/links.py:5: NumbaDeprecationWarning: The 'nopython' keyword argument was not supplied to the 'numba.jit' decorator. The implicit default value for this argument is currently False, but it will be changed to True in Numba 0.59.0. See https://numba.readthedocs.io/en/stable/reference/deprecation.html#deprecation-of-object-mode-fall-back-behaviour-when-using-jit for details.\n",
      "  def identity(x):\n",
      "/user/local/anaconda3/envs/ncomms2022/lib/python3.8/site-packages/shap/links.py:10: NumbaDeprecationWarning: The 'nopython' keyword argument was not supplied to the 'numba.jit' decorator. The implicit default value for this argument is currently False, but it will be changed to True in Numba 0.59.0. See https://numba.readthedocs.io/en/stable/reference/deprecation.html#deprecation-of-object-mode-fall-back-behaviour-when-using-jit for details.\n",
      "  def _identity_inverse(x):\n",
      "/user/local/anaconda3/envs/ncomms2022/lib/python3.8/site-packages/shap/links.py:15: NumbaDeprecationWarning: The 'nopython' keyword argument was not supplied to the 'numba.jit' decorator. The implicit default value for this argument is currently False, but it will be changed to True in Numba 0.59.0. See https://numba.readthedocs.io/en/stable/reference/deprecation.html#deprecation-of-object-mode-fall-back-behaviour-when-using-jit for details.\n",
      "  def logit(x):\n",
      "/user/local/anaconda3/envs/ncomms2022/lib/python3.8/site-packages/shap/links.py:20: NumbaDeprecationWarning: The 'nopython' keyword argument was not supplied to the 'numba.jit' decorator. The implicit default value for this argument is currently False, but it will be changed to True in Numba 0.59.0. See https://numba.readthedocs.io/en/stable/reference/deprecation.html#deprecation-of-object-mode-fall-back-behaviour-when-using-jit for details.\n",
      "  def _logit_inverse(x):\n",
      "/user/local/anaconda3/envs/ncomms2022/lib/python3.8/site-packages/shap/utils/_masked_model.py:363: NumbaDeprecationWarning: The 'nopython' keyword argument was not supplied to the 'numba.jit' decorator. The implicit default value for this argument is currently False, but it will be changed to True in Numba 0.59.0. See https://numba.readthedocs.io/en/stable/reference/deprecation.html#deprecation-of-object-mode-fall-back-behaviour-when-using-jit for details.\n",
      "  def _build_fixed_single_output(averaged_outs, last_outs, outputs, batch_positions, varying_rows, num_varying_rows, link, linearizing_weights):\n",
      "/user/local/anaconda3/envs/ncomms2022/lib/python3.8/site-packages/shap/utils/_masked_model.py:385: NumbaDeprecationWarning: The 'nopython' keyword argument was not supplied to the 'numba.jit' decorator. The implicit default value for this argument is currently False, but it will be changed to True in Numba 0.59.0. See https://numba.readthedocs.io/en/stable/reference/deprecation.html#deprecation-of-object-mode-fall-back-behaviour-when-using-jit for details.\n",
      "  def _build_fixed_multi_output(averaged_outs, last_outs, outputs, batch_positions, varying_rows, num_varying_rows, link, linearizing_weights):\n",
      "/user/local/anaconda3/envs/ncomms2022/lib/python3.8/site-packages/shap/utils/_masked_model.py:428: NumbaDeprecationWarning: The 'nopython' keyword argument was not supplied to the 'numba.jit' decorator. The implicit default value for this argument is currently False, but it will be changed to True in Numba 0.59.0. See https://numba.readthedocs.io/en/stable/reference/deprecation.html#deprecation-of-object-mode-fall-back-behaviour-when-using-jit for details.\n",
      "  def _init_masks(cluster_matrix, M, indices_row_pos, indptr):\n",
      "/user/local/anaconda3/envs/ncomms2022/lib/python3.8/site-packages/shap/utils/_masked_model.py:439: NumbaDeprecationWarning: The 'nopython' keyword argument was not supplied to the 'numba.jit' decorator. The implicit default value for this argument is currently False, but it will be changed to True in Numba 0.59.0. See https://numba.readthedocs.io/en/stable/reference/deprecation.html#deprecation-of-object-mode-fall-back-behaviour-when-using-jit for details.\n",
      "  def _rec_fill_masks(cluster_matrix, indices_row_pos, indptr, indices, M, ind):\n",
      "/user/local/anaconda3/envs/ncomms2022/lib/python3.8/site-packages/shap/maskers/_tabular.py:186: NumbaDeprecationWarning: The 'nopython' keyword argument was not supplied to the 'numba.jit' decorator. The implicit default value for this argument is currently False, but it will be changed to True in Numba 0.59.0. See https://numba.readthedocs.io/en/stable/reference/deprecation.html#deprecation-of-object-mode-fall-back-behaviour-when-using-jit for details.\n",
      "  def _single_delta_mask(dind, masked_inputs, last_mask, data, x, noop_code):\n",
      "/user/local/anaconda3/envs/ncomms2022/lib/python3.8/site-packages/shap/maskers/_tabular.py:197: NumbaDeprecationWarning: The 'nopython' keyword argument was not supplied to the 'numba.jit' decorator. The implicit default value for this argument is currently False, but it will be changed to True in Numba 0.59.0. See https://numba.readthedocs.io/en/stable/reference/deprecation.html#deprecation-of-object-mode-fall-back-behaviour-when-using-jit for details.\n",
      "  def _delta_masking(masks, x, curr_delta_inds, varying_rows_out,\n",
      "/user/local/anaconda3/envs/ncomms2022/lib/python3.8/site-packages/shap/maskers/_image.py:175: NumbaDeprecationWarning: The 'nopython' keyword argument was not supplied to the 'numba.jit' decorator. The implicit default value for this argument is currently False, but it will be changed to True in Numba 0.59.0. See https://numba.readthedocs.io/en/stable/reference/deprecation.html#deprecation-of-object-mode-fall-back-behaviour-when-using-jit for details.\n",
      "  def _jit_build_partition_tree(xmin, xmax, ymin, ymax, zmin, zmax, total_ywidth, total_zwidth, M, clustering, q):\n",
      "/user/local/anaconda3/envs/ncomms2022/lib/python3.8/site-packages/tqdm/auto.py:21: TqdmWarning: IProgress not found. Please update jupyter and ipywidgets. See https://ipywidgets.readthedocs.io/en/stable/user_install.html\n",
      "  from .autonotebook import tqdm as notebook_tqdm\n",
      "/user/local/anaconda3/envs/ncomms2022/lib/python3.8/site-packages/shap/explainers/_partition.py:676: NumbaDeprecationWarning: The 'nopython' keyword argument was not supplied to the 'numba.jit' decorator. The implicit default value for this argument is currently False, but it will be changed to True in Numba 0.59.0. See https://numba.readthedocs.io/en/stable/reference/deprecation.html#deprecation-of-object-mode-fall-back-behaviour-when-using-jit for details.\n",
      "  def lower_credit(i, value, M, values, clustering):\n",
      "The 'nopython' keyword argument was not supplied to the 'numba.jit' decorator. The implicit default value for this argument is currently False, but it will be changed to True in Numba 0.59.0. See https://numba.readthedocs.io/en/stable/reference/deprecation.html#deprecation-of-object-mode-fall-back-behaviour-when-using-jit for details.\n",
      "The 'nopython' keyword argument was not supplied to the 'numba.jit' decorator. The implicit default value for this argument is currently False, but it will be changed to True in Numba 0.59.0. See https://numba.readthedocs.io/en/stable/reference/deprecation.html#deprecation-of-object-mode-fall-back-behaviour-when-using-jit for details.\n"
     ]
    },
    {
     "data": {
      "text/plain": [
       "0.8887049062049062"
      ]
     },
     "execution_count": 1,
     "metadata": {},
     "output_type": "execute_result"
    }
   ],
   "source": [
    "from performance_eval import generate_roc, generate_pr\n",
    "generate_roc(\n",
    "    ['tb_log/CNN_baseline_new_cross0/valid_eval.csv','tb_log/CNN_baseline_new_cross1/valid_eval.csv','tb_log/CNN_baseline_new_cross2/valid_eval.csv','tb_log/CNN_baseline_new_cross3/valid_eval.csv','tb_log/CNN_baseline_new_cross4/valid_eval.csv'],              # list[csvfiles] produced from \"gen_score\". Mean and std are estimated from cross-validation experiments  \n",
    "    'DE', \n",
    "    'red', \n",
    "    'ADNI_valid_DE_roc'\n",
    ")\n",
    "generate_pr(\n",
    "    ['tb_log/CNN_baseline_new_cross0/valid_eval.csv','tb_log/CNN_baseline_new_cross1/valid_eval.csv','tb_log/CNN_baseline_new_cross2/valid_eval.csv','tb_log/CNN_baseline_new_cross3/valid_eval.csv','tb_log/CNN_baseline_new_cross4/valid_eval.csv'],              # list[csvfiles] produced from \"gen_score\". Mean and std are estimated from cross-validation experiments \n",
    "    'DE', \n",
    "    'red', \n",
    "    'ADNI_valid_DE_pr'\n",
    ")"
   ]
  },
  {
   "cell_type": "code",
   "execution_count": 3,
   "metadata": {},
   "outputs": [
    {
     "name": "stdout",
     "output_type": "stream",
     "text": [
      "_CNN_Bone(\n",
      "  (block1): ConvLayer(\n",
      "    (conv): Conv3d(1, 20, kernel_size=(7, 7, 7), stride=(2, 2, 2), bias=False)\n",
      "    (pooling): MaxPool3d(kernel_size=3, stride=2, padding=0, dilation=1, ceil_mode=False)\n",
      "    (BN): BatchNorm3d(20, eps=1e-05, momentum=0.1, affine=True, track_running_stats=True)\n",
      "    (relu): LeakyReLU(negative_slope=0.01)\n",
      "    (dropout): Dropout(p=0, inplace=False)\n",
      "  )\n",
      "  (block2): ConvLayer(\n",
      "    (conv): Conv3d(20, 40, kernel_size=(4, 4, 4), stride=(1, 1, 1), bias=False)\n",
      "    (pooling): MaxPool3d(kernel_size=2, stride=2, padding=0, dilation=1, ceil_mode=False)\n",
      "    (BN): BatchNorm3d(40, eps=1e-05, momentum=0.1, affine=True, track_running_stats=True)\n",
      "    (relu): LeakyReLU(negative_slope=0.01)\n",
      "    (dropout): Dropout(p=0, inplace=False)\n",
      "  )\n",
      "  (block3): ConvLayer(\n",
      "    (conv): Conv3d(40, 80, kernel_size=(3, 3, 3), stride=(1, 1, 1), bias=False)\n",
      "    (pooling): MaxPool3d(kernel_size=2, stride=2, padding=0, dilation=1, ceil_mode=False)\n",
      "    (BN): BatchNorm3d(80, eps=1e-05, momentum=0.1, affine=True, track_running_stats=True)\n",
      "    (relu): LeakyReLU(negative_slope=0.01)\n",
      "    (dropout): Dropout(p=0, inplace=False)\n",
      "  )\n",
      "  (block4): ConvLayer(\n",
      "    (conv): Conv3d(80, 160, kernel_size=(3, 3, 3), stride=(1, 1, 1), bias=False)\n",
      "    (pooling): MaxPool3d(kernel_size=2, stride=2, padding=0, dilation=1, ceil_mode=False)\n",
      "    (BN): BatchNorm3d(160, eps=1e-05, momentum=0.1, affine=True, track_running_stats=True)\n",
      "    (relu): LeakyReLU(negative_slope=0.01)\n",
      "    (dropout): Dropout(p=0, inplace=False)\n",
      "  )\n",
      ")\n",
      "[MLP(\n",
      "  (dense1): Sequential(\n",
      "    (0): Dropout(p=0.5, inplace=False)\n",
      "    (1): Linear(in_features=5760, out_features=100, bias=True)\n",
      "  )\n",
      "  (dense2): Sequential(\n",
      "    (0): LeakyReLU(negative_slope=0.01)\n",
      "    (1): Dropout(p=0.5, inplace=False)\n",
      "    (2): Linear(in_features=100, out_features=1, bias=True)\n",
      "  )\n",
      ")]\n"
     ]
    },
    {
     "ename": "FileNotFoundError",
     "evalue": "Caught FileNotFoundError in DataLoader worker process 0.\nOriginal Traceback (most recent call last):\n  File \"/user/local/anaconda3/envs/ncomms2022/lib/python3.8/site-packages/torch/utils/data/_utils/worker.py\", line 308, in _worker_loop\n    data = fetcher.fetch(index)\n  File \"/user/local/anaconda3/envs/ncomms2022/lib/python3.8/site-packages/torch/utils/data/_utils/fetch.py\", line 51, in fetch\n    data = [self.dataset[idx] for idx in possibly_batched_index]\n  File \"/user/local/anaconda3/envs/ncomms2022/lib/python3.8/site-packages/torch/utils/data/_utils/fetch.py\", line 51, in <listcomp>\n    data = [self.dataset[idx] for idx in possibly_batched_index]\n  File \"/home/dcj/ncomms2022/dataloader.py\", line 54, in __getitem__\n    data = np.load(self.Data_list[idx].replace('.nii', '.npy')).astype(np.float32)\n  File \"/user/local/anaconda3/envs/ncomms2022/lib/python3.8/site-packages/numpy/lib/npyio.py\", line 405, in load\n    fid = stack.enter_context(open(os_fspath(file), \"rb\"))\nFileNotFoundError: [Errno 2] No such file or directory: 'data/ADNIMRI/ADNI_021_S_0337_MR_MPR__GradWarp__N3__Scaled_Br_20080513171531881_S49558_I105303.npy'\n",
     "output_type": "error",
     "traceback": [
      "\u001b[0;31m---------------------------------------------------------------------------\u001b[0m",
      "\u001b[0;31mFileNotFoundError\u001b[0m                         Traceback (most recent call last)",
      "\u001b[1;32m/home/dcj/ncomms2022/test.ipynb 单元格 4\u001b[0m line \u001b[0;36m1\n\u001b[1;32m      <a href='vscode-notebook-cell://ssh-remote%2B10.11.195.72/home/dcj/ncomms2022/test.ipynb#W3sdnNjb2RlLXJlbW90ZQ%3D%3D?line=1'>2</a>\u001b[0m \u001b[39mfrom\u001b[39;00m \u001b[39mutils\u001b[39;00m \u001b[39mimport\u001b[39;00m read_json\n\u001b[1;32m      <a href='vscode-notebook-cell://ssh-remote%2B10.11.195.72/home/dcj/ncomms2022/test.ipynb#W3sdnNjb2RlLXJlbW90ZQ%3D%3D?line=3'>4</a>\u001b[0m model \u001b[39m=\u001b[39m Multask_Wrapper(\n\u001b[1;32m      <a href='vscode-notebook-cell://ssh-remote%2B10.11.195.72/home/dcj/ncomms2022/test.ipynb#W3sdnNjb2RlLXJlbW90ZQ%3D%3D?line=4'>5</a>\u001b[0m     tasks\u001b[39m=\u001b[39m[\u001b[39m'\u001b[39m\u001b[39mCOG\u001b[39m\u001b[39m'\u001b[39m],                            \u001b[39m# a list of tasks to predict\u001b[39;00m\n\u001b[1;32m      <a href='vscode-notebook-cell://ssh-remote%2B10.11.195.72/home/dcj/ncomms2022/test.ipynb#W3sdnNjb2RlLXJlbW90ZQ%3D%3D?line=5'>6</a>\u001b[0m     device\u001b[39m=\u001b[39m\u001b[39m0\u001b[39m,                                        \u001b[39m# GPU device to use\u001b[39;00m\n\u001b[0;32m   (...)\u001b[0m\n\u001b[1;32m      <a href='vscode-notebook-cell://ssh-remote%2B10.11.195.72/home/dcj/ncomms2022/test.ipynb#W3sdnNjb2RlLXJlbW90ZQ%3D%3D?line=8'>9</a>\u001b[0m     seed\u001b[39m=\u001b[39m\u001b[39m1000\u001b[39m\n\u001b[1;32m     <a href='vscode-notebook-cell://ssh-remote%2B10.11.195.72/home/dcj/ncomms2022/test.ipynb#W3sdnNjb2RlLXJlbW90ZQ%3D%3D?line=9'>10</a>\u001b[0m )                                       \n\u001b[0;32m---> <a href='vscode-notebook-cell://ssh-remote%2B10.11.195.72/home/dcj/ncomms2022/test.ipynb#W3sdnNjb2RlLXJlbW90ZQ%3D%3D?line=10'>11</a>\u001b[0m model\u001b[39m.\u001b[39;49mtrain()                                                            \n\u001b[1;32m     <a href='vscode-notebook-cell://ssh-remote%2B10.11.195.72/home/dcj/ncomms2022/test.ipynb#W3sdnNjb2RlLXJlbW90ZQ%3D%3D?line=11'>12</a>\u001b[0m thres \u001b[39m=\u001b[39m model\u001b[39m.\u001b[39mget_optimal_thres()                    \u001b[39m# get optimal threshold using validation dataset\u001b[39;00m\n\u001b[1;32m     <a href='vscode-notebook-cell://ssh-remote%2B10.11.195.72/home/dcj/ncomms2022/test.ipynb#W3sdnNjb2RlLXJlbW90ZQ%3D%3D?line=12'>13</a>\u001b[0m model\u001b[39m.\u001b[39mgen_score([\u001b[39m'\u001b[39m\u001b[39mtest\u001b[39m\u001b[39m'\u001b[39m], thres)\n",
      "File \u001b[0;32m~/ncomms2022/model_wrappers.py:123\u001b[0m, in \u001b[0;36mMultask_Wrapper.train\u001b[0;34m(self)\u001b[0m\n\u001b[1;32m    121\u001b[0m \u001b[39mself\u001b[39m\u001b[39m.\u001b[39mwriter \u001b[39m=\u001b[39m SummaryWriter(\u001b[39mself\u001b[39m\u001b[39m.\u001b[39mtb_log_dir)\n\u001b[1;32m    122\u001b[0m \u001b[39mfor\u001b[39;00m \u001b[39mself\u001b[39m\u001b[39m.\u001b[39mepoch \u001b[39min\u001b[39;00m \u001b[39mrange\u001b[39m(\u001b[39mself\u001b[39m\u001b[39m.\u001b[39mnum_epochs):\n\u001b[0;32m--> 123\u001b[0m     \u001b[39mself\u001b[39;49m\u001b[39m.\u001b[39;49mtrain_an_epoch()\n\u001b[1;32m    124\u001b[0m     \u001b[39mself\u001b[39m\u001b[39m.\u001b[39mcur_metric \u001b[39m=\u001b[39m \u001b[39mself\u001b[39m\u001b[39m.\u001b[39mvalid_an_epoch()\n\u001b[1;32m    125\u001b[0m     \u001b[39mif\u001b[39;00m \u001b[39mself\u001b[39m\u001b[39m.\u001b[39mneedToSave():\n",
      "File \u001b[0;32m~/ncomms2022/utils.py:314\u001b[0m, in \u001b[0;36mtimeit.<locals>.timed\u001b[0;34m(*args, **kw)\u001b[0m\n\u001b[1;32m    312\u001b[0m \u001b[39mdef\u001b[39;00m \u001b[39mtimed\u001b[39m(\u001b[39m*\u001b[39margs, \u001b[39m*\u001b[39m\u001b[39m*\u001b[39mkw):\n\u001b[1;32m    313\u001b[0m     ts \u001b[39m=\u001b[39m time\u001b[39m.\u001b[39mtime()\n\u001b[0;32m--> 314\u001b[0m     result \u001b[39m=\u001b[39m method(\u001b[39m*\u001b[39;49margs, \u001b[39m*\u001b[39;49m\u001b[39m*\u001b[39;49mkw)\n\u001b[1;32m    315\u001b[0m     te \u001b[39m=\u001b[39m time\u001b[39m.\u001b[39mtime()\n\u001b[1;32m    316\u001b[0m     \u001b[39mif\u001b[39;00m \u001b[39m'\u001b[39m\u001b[39mlog_time\u001b[39m\u001b[39m'\u001b[39m \u001b[39min\u001b[39;00m kw:\n",
      "File \u001b[0;32m~/ncomms2022/model_wrappers.py:379\u001b[0m, in \u001b[0;36mMultask_Wrapper.train_an_epoch\u001b[0;34m(self)\u001b[0m\n\u001b[1;32m    377\u001b[0m \u001b[39mself\u001b[39m\u001b[39m.\u001b[39mzero_grad_all()\n\u001b[1;32m    378\u001b[0m \u001b[39mfor\u001b[39;00m i \u001b[39min\u001b[39;00m \u001b[39mrange\u001b[39m(\u001b[39mself\u001b[39m\u001b[39m.\u001b[39mn_tasks):\n\u001b[0;32m--> 379\u001b[0m     inputs, labels, names \u001b[39m=\u001b[39m \u001b[39mnext\u001b[39;49m(iter_train_dataloaders[i])\n\u001b[1;32m    380\u001b[0m     preds, loss, labels \u001b[39m=\u001b[39m \u001b[39mself\u001b[39m\u001b[39m.\u001b[39mforward_task(i, inputs, labels)\n\u001b[1;32m    381\u001b[0m     loss\u001b[39m.\u001b[39mbackward()\n",
      "File \u001b[0;32m/user/local/anaconda3/envs/ncomms2022/lib/python3.8/site-packages/torch/utils/data/dataloader.py:634\u001b[0m, in \u001b[0;36m_BaseDataLoaderIter.__next__\u001b[0;34m(self)\u001b[0m\n\u001b[1;32m    631\u001b[0m \u001b[39mif\u001b[39;00m \u001b[39mself\u001b[39m\u001b[39m.\u001b[39m_sampler_iter \u001b[39mis\u001b[39;00m \u001b[39mNone\u001b[39;00m:\n\u001b[1;32m    632\u001b[0m     \u001b[39m# TODO(https://github.com/pytorch/pytorch/issues/76750)\u001b[39;00m\n\u001b[1;32m    633\u001b[0m     \u001b[39mself\u001b[39m\u001b[39m.\u001b[39m_reset()  \u001b[39m# type: ignore[call-arg]\u001b[39;00m\n\u001b[0;32m--> 634\u001b[0m data \u001b[39m=\u001b[39m \u001b[39mself\u001b[39;49m\u001b[39m.\u001b[39;49m_next_data()\n\u001b[1;32m    635\u001b[0m \u001b[39mself\u001b[39m\u001b[39m.\u001b[39m_num_yielded \u001b[39m+\u001b[39m\u001b[39m=\u001b[39m \u001b[39m1\u001b[39m\n\u001b[1;32m    636\u001b[0m \u001b[39mif\u001b[39;00m \u001b[39mself\u001b[39m\u001b[39m.\u001b[39m_dataset_kind \u001b[39m==\u001b[39m _DatasetKind\u001b[39m.\u001b[39mIterable \u001b[39mand\u001b[39;00m \\\n\u001b[1;32m    637\u001b[0m         \u001b[39mself\u001b[39m\u001b[39m.\u001b[39m_IterableDataset_len_called \u001b[39mis\u001b[39;00m \u001b[39mnot\u001b[39;00m \u001b[39mNone\u001b[39;00m \u001b[39mand\u001b[39;00m \\\n\u001b[1;32m    638\u001b[0m         \u001b[39mself\u001b[39m\u001b[39m.\u001b[39m_num_yielded \u001b[39m>\u001b[39m \u001b[39mself\u001b[39m\u001b[39m.\u001b[39m_IterableDataset_len_called:\n",
      "File \u001b[0;32m/user/local/anaconda3/envs/ncomms2022/lib/python3.8/site-packages/torch/utils/data/dataloader.py:1346\u001b[0m, in \u001b[0;36m_MultiProcessingDataLoaderIter._next_data\u001b[0;34m(self)\u001b[0m\n\u001b[1;32m   1344\u001b[0m \u001b[39melse\u001b[39;00m:\n\u001b[1;32m   1345\u001b[0m     \u001b[39mdel\u001b[39;00m \u001b[39mself\u001b[39m\u001b[39m.\u001b[39m_task_info[idx]\n\u001b[0;32m-> 1346\u001b[0m     \u001b[39mreturn\u001b[39;00m \u001b[39mself\u001b[39;49m\u001b[39m.\u001b[39;49m_process_data(data)\n",
      "File \u001b[0;32m/user/local/anaconda3/envs/ncomms2022/lib/python3.8/site-packages/torch/utils/data/dataloader.py:1372\u001b[0m, in \u001b[0;36m_MultiProcessingDataLoaderIter._process_data\u001b[0;34m(self, data)\u001b[0m\n\u001b[1;32m   1370\u001b[0m \u001b[39mself\u001b[39m\u001b[39m.\u001b[39m_try_put_index()\n\u001b[1;32m   1371\u001b[0m \u001b[39mif\u001b[39;00m \u001b[39misinstance\u001b[39m(data, ExceptionWrapper):\n\u001b[0;32m-> 1372\u001b[0m     data\u001b[39m.\u001b[39;49mreraise()\n\u001b[1;32m   1373\u001b[0m \u001b[39mreturn\u001b[39;00m data\n",
      "File \u001b[0;32m/user/local/anaconda3/envs/ncomms2022/lib/python3.8/site-packages/torch/_utils.py:644\u001b[0m, in \u001b[0;36mExceptionWrapper.reraise\u001b[0;34m(self)\u001b[0m\n\u001b[1;32m    640\u001b[0m \u001b[39mexcept\u001b[39;00m \u001b[39mTypeError\u001b[39;00m:\n\u001b[1;32m    641\u001b[0m     \u001b[39m# If the exception takes multiple arguments, don't try to\u001b[39;00m\n\u001b[1;32m    642\u001b[0m     \u001b[39m# instantiate since we don't know how to\u001b[39;00m\n\u001b[1;32m    643\u001b[0m     \u001b[39mraise\u001b[39;00m \u001b[39mRuntimeError\u001b[39;00m(msg) \u001b[39mfrom\u001b[39;00m \u001b[39mNone\u001b[39;00m\n\u001b[0;32m--> 644\u001b[0m \u001b[39mraise\u001b[39;00m exception\n",
      "\u001b[0;31mFileNotFoundError\u001b[0m: Caught FileNotFoundError in DataLoader worker process 0.\nOriginal Traceback (most recent call last):\n  File \"/user/local/anaconda3/envs/ncomms2022/lib/python3.8/site-packages/torch/utils/data/_utils/worker.py\", line 308, in _worker_loop\n    data = fetcher.fetch(index)\n  File \"/user/local/anaconda3/envs/ncomms2022/lib/python3.8/site-packages/torch/utils/data/_utils/fetch.py\", line 51, in fetch\n    data = [self.dataset[idx] for idx in possibly_batched_index]\n  File \"/user/local/anaconda3/envs/ncomms2022/lib/python3.8/site-packages/torch/utils/data/_utils/fetch.py\", line 51, in <listcomp>\n    data = [self.dataset[idx] for idx in possibly_batched_index]\n  File \"/home/dcj/ncomms2022/dataloader.py\", line 54, in __getitem__\n    data = np.load(self.Data_list[idx].replace('.nii', '.npy')).astype(np.float32)\n  File \"/user/local/anaconda3/envs/ncomms2022/lib/python3.8/site-packages/numpy/lib/npyio.py\", line 405, in load\n    fid = stack.enter_context(open(os_fspath(file), \"rb\"))\nFileNotFoundError: [Errno 2] No such file or directory: 'data/ADNIMRI/ADNI_021_S_0337_MR_MPR__GradWarp__N3__Scaled_Br_20080513171531881_S49558_I105303.npy'\n"
     ]
    }
   ],
   "source": [
    "from model_wrappers import Multask_Wrapper\n",
    "from utils import read_json\n",
    "\n",
    "model = Multask_Wrapper(\n",
    "    tasks=['COG'],                            # a list of tasks to predict\n",
    "    device=0,                                        # GPU device to use\n",
    "    main_config={\"csv_dir\": \"lookupcsv/CrossValid/cross0/\", \"model_name\": \"CNN_baseline_new_cross0\"},             # general configuration for the experiment  \n",
    "    task_config=read_json('task_config_ADNI.json'),       # task specific configurations\n",
    "    seed=1000\n",
    ")                                       \n",
    "model.train()                                                            \n",
    "thres = model.get_optimal_thres()                    # get optimal threshold using validation dataset\n",
    "model.gen_score(['test'], thres)                     # apply optimal threshold on test dataset and cache predictions"
   ]
  },
  {
   "cell_type": "code",
   "execution_count": 9,
   "metadata": {},
   "outputs": [
    {
     "name": "stdout",
     "output_type": "stream",
     "text": [
      "0\n"
     ]
    }
   ],
   "source": [
    "import os\n",
    "folder='data/MRI_MRI/'\n",
    "t=0\n",
    "for root, dirs, files in os.walk(folder, topdown=False):\n",
    "    for file in files:\n",
    "        if file.endswith('.nii'):\n",
    "            t=t+1\n",
    "print(t)"
   ]
  },
  {
   "cell_type": "code",
   "execution_count": null,
   "metadata": {},
   "outputs": [],
   "source": []
  }
 ],
 "metadata": {
  "kernelspec": {
   "display_name": "ncomms2022",
   "language": "python",
   "name": "python3"
  },
  "language_info": {
   "codemirror_mode": {
    "name": "ipython",
    "version": 3
   },
   "file_extension": ".py",
   "mimetype": "text/x-python",
   "name": "python",
   "nbconvert_exporter": "python",
   "pygments_lexer": "ipython3",
   "version": "3.8.18"
  }
 },
 "nbformat": 4,
 "nbformat_minor": 2
}
